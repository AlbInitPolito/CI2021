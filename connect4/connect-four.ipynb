{
 "cells": [
  {
   "cell_type": "markdown",
   "metadata": {},
   "source": [
    "Copyright **`(c)`** 2021 Giovanni Squillero `<squillero@polito.it>`  \n",
    "[`https://github.com/squillero/computational-intelligence`](https://github.com/squillero/computational-intelligence)  \n",
    "Free for personal or classroom use; see 'LICENCE.md' for details."
   ]
  },
  {
   "cell_type": "markdown",
   "metadata": {},
   "source": [
    "# Connect 4"
   ]
  },
  {
   "cell_type": "code",
   "execution_count": 153,
   "metadata": {},
   "outputs": [],
   "source": [
    "from collections import Counter\n",
    "import numpy as np\n",
    "from IPython.display import clear_output\n",
    "\n",
    "import os"
   ]
  },
  {
   "cell_type": "code",
   "execution_count": 154,
   "metadata": {},
   "outputs": [],
   "source": [
    "NUM_COLUMNS = 7\n",
    "COLUMN_HEIGHT = 6\n",
    "FOUR = 4\n",
    "\n",
    "# Board can be initiatilized with `board = np.zeros((NUM_COLUMNS, COLUMN_HEIGHT), dtype=np.byte)`\n",
    "# Notez Bien: Connect 4 \"columns\" are actually NumPy \"rows\""
   ]
  },
  {
   "cell_type": "markdown",
   "metadata": {},
   "source": [
    "## Basic Functions"
   ]
  },
  {
   "cell_type": "code",
   "execution_count": 155,
   "metadata": {},
   "outputs": [],
   "source": [
    "clear = lambda: os.system('cls')\n",
    "\n",
    "def valid_moves(board):\n",
    "    \"\"\"Returns columns where a disc may be played\"\"\"\n",
    "    return [n for n in range(NUM_COLUMNS) if board[n, COLUMN_HEIGHT - 1] == 0]\n",
    "\n",
    "\n",
    "def play(board, column, player):\n",
    "    \"\"\"Updates `board` as `player` drops a disc in `column`\"\"\"\n",
    "    (index,) = next((i for i, v in np.ndenumerate(board[column]) if v == 0))\n",
    "    board[column, index] = player\n",
    "\n",
    "\n",
    "def take_back(board, column):\n",
    "    \"\"\"Updates `board` removing top disc from `column`\"\"\"\n",
    "    (index,) = [i for i, v in np.ndenumerate(board[column]) if v != 0][-1]\n",
    "    board[column, index] = 0\n",
    "\n",
    "\n",
    "def four_in_a_row(board, player):\n",
    "    \"\"\"Checks if `player` has a 4-piece line\"\"\"\n",
    "    return (\n",
    "        any(\n",
    "            all(board[c, r] == player)\n",
    "            for c in range(NUM_COLUMNS)\n",
    "            for r in (list(range(n, n + FOUR)) for n in range(COLUMN_HEIGHT - FOUR + 1))\n",
    "        )\n",
    "        or any(\n",
    "            all(board[c, r] == player)\n",
    "            for r in range(COLUMN_HEIGHT)\n",
    "            for c in (list(range(n, n + FOUR)) for n in range(NUM_COLUMNS - FOUR + 1))\n",
    "        )\n",
    "        or any(\n",
    "            np.all(board[diag] == player)\n",
    "            for diag in (\n",
    "                (range(ro, ro + FOUR), range(co, co + FOUR))\n",
    "                for ro in range(0, NUM_COLUMNS - FOUR + 1)\n",
    "                for co in range(0, COLUMN_HEIGHT - FOUR + 1)\n",
    "            )\n",
    "        )\n",
    "        or any(\n",
    "            np.all(board[diag] == player)\n",
    "            for diag in (\n",
    "                (range(ro, ro + FOUR), range(co + FOUR - 1, co - 1, -1))\n",
    "                for ro in range(0, NUM_COLUMNS - FOUR + 1)\n",
    "                for co in range(0, COLUMN_HEIGHT - FOUR + 1)\n",
    "            )\n",
    "        )\n",
    "    )\n",
    "\n",
    "def print_board(board):\n",
    "    corr = board.copy()\n",
    "    corr = np.array(board).T[::-1].reshape(NUM_COLUMNS*COLUMN_HEIGHT)\n",
    "    corr = [\"X\" if i==1 else i for i in corr]\n",
    "    corr = [\"O\" if i==-1 else i for i in corr]\n",
    "    corr = [\" \" if i==0 else i for i in corr]\n",
    "    corr = np.array(corr).reshape((COLUMN_HEIGHT,NUM_COLUMNS))\n",
    "    \n",
    "            \n",
    "    #for i in range(corr.shape[0]):\n",
    "        #corr[i] = [\"X\" if j==1 else j for j in corr[i]]\n",
    "        #corr[i] = [\"O\" if j==-1 else j for j in corr[i]]\n",
    "        #corr[i] = [' ' if j==0 else j for j in corr[i]]\n",
    "\n",
    "    clear_output(wait=True)\n",
    "    print(np.array2string(corr, separator=' '))"
   ]
  },
  {
   "cell_type": "markdown",
   "metadata": {},
   "source": [
    "## Montecarlo Evaluation"
   ]
  },
  {
   "cell_type": "code",
   "execution_count": 168,
   "metadata": {},
   "outputs": [],
   "source": [
    "def _mc(board, player):\n",
    "    p = -player\n",
    "    while valid_moves(board):\n",
    "        p = -p\n",
    "        c = np.random.choice(valid_moves(board))\n",
    "        play(board, c, p)\n",
    "        if four_in_a_row(board, p):\n",
    "            return p\n",
    "    return 0\n",
    "\n",
    "\n",
    "def montecarlo(board, player):\n",
    "    montecarlo_samples = 500\n",
    "    cnt = Counter(_mc(np.copy(board), player) for _ in range(montecarlo_samples))\n",
    "    return (cnt[1] - cnt[-1]) / montecarlo_samples\n",
    "\n",
    "\n",
    "def eval_board(board, player):\n",
    "    if four_in_a_row(board, 1):\n",
    "        # Alice won\n",
    "        return 1\n",
    "    elif four_in_a_row(board, -1):\n",
    "        # Bob won\n",
    "        return -1\n",
    "    else:\n",
    "        # Not terminal, let's simulate...\n",
    "        return montecarlo(board, player)"
   ]
  },
  {
   "cell_type": "code",
   "execution_count": 170,
   "metadata": {},
   "outputs": [],
   "source": [
    "def minmaxmc(board, player, level): #player is player in this turn\n",
    "    \n",
    "    p1 = four_in_a_row(board,player)\n",
    "    if p1:\n",
    "        return None, player\n",
    "\n",
    "    possible = valid_moves(board)\n",
    "    if not possible:\n",
    "        return None, 0   \n",
    "\n",
    "    if level==1:\n",
    "        return None, player*montecarlo(board,player)\n",
    "\n",
    "    evaluations = list()\n",
    "\n",
    "    for ply in possible:\n",
    "        new_board = board.copy()\n",
    "        play(new_board,ply,player)\n",
    "        _, val = minmaxmc(new_board, -player, level+1)\n",
    "        evaluations.append((ply, -val))\n",
    "        #print(new_board)\n",
    "    return max(evaluations, key=lambda k: k[1])"
   ]
  },
  {
   "cell_type": "code",
   "execution_count": null,
   "metadata": {},
   "outputs": [],
   "source": [
    "#BASIC (WORKING) SOLUTION WITH MONTECARLO\n",
    "board = np.zeros((NUM_COLUMNS, COLUMN_HEIGHT), dtype=np.byte)\n",
    "p1 = False\n",
    "p2 = False\n",
    "player = 1\n",
    "while p1==False and p2==False:\n",
    "    evaluations = list()\n",
    "    possible = valid_moves(board)\n",
    "    for ply in possible:\n",
    "        new_board = board.copy()\n",
    "        play(new_board,ply,player)\n",
    "        val = montecarlo(new_board, player)\n",
    "        evaluations.append((ply, val))\n",
    "    pos, val = max(evaluations, key=lambda k: k[1])\n",
    "    play(board, pos, player)\n",
    "    player = -player\n",
    "    p1 = four_in_a_row(board,1)\n",
    "    p2 = four_in_a_row(board,-1)\n",
    "    print(board)\n",
    "p1 = four_in_a_row(board,1)\n",
    "p2 = four_in_a_row(board,-1)\n",
    "if p1==True:\n",
    "    print(\"p1 won\")\n",
    "elif p2==True:\n",
    "    print(\"p2 won\")\n",
    "else:\n",
    "    print(\"tie\")\n",
    "\n"
   ]
  },
  {
   "cell_type": "markdown",
   "metadata": {},
   "source": [
    "## TRY also with depth 3 and 25 samples\n",
    "## depth 2, 100 samples, 13m 31s, 43s for initial move) -> tie\n",
    "## depth 1, 200 samples, 18s each move, 3m 31s\n",
    "## depth 1, 500 samples, 5m 22s"
   ]
  },
  {
   "cell_type": "code",
   "execution_count": 172,
   "metadata": {},
   "outputs": [
    {
     "name": "stdout",
     "output_type": "stream",
     "text": [
      "[[' ' ' ' 'X' 'O' ' ' ' ' ' ']\n",
      " [' ' 'O' 'X' 'X' ' ' ' ' ' ']\n",
      " [' ' 'X' 'O' 'X' 'X' ' ' ' ']\n",
      " [' ' 'O' 'O' 'X' 'O' 'X' ' ']\n",
      " [' ' 'O' 'X' 'O' 'O' 'O' ' ']\n",
      " ['X' 'O' 'X' 'X' 'O' 'X' ' ']]\n",
      "p1 won\n"
     ]
    }
   ],
   "source": [
    "#WORKING SOLUTION WITH MINMAX2+MONTECARLO DEPTH n?\n",
    "\n",
    "board = np.zeros((NUM_COLUMNS, COLUMN_HEIGHT), dtype=np.byte)\n",
    "print_board(board)\n",
    "p = False\n",
    "player = 1\n",
    "while p==False:\n",
    "    ply, val = minmaxmc(board,player,0)\n",
    "    play(board, ply, player)\n",
    "    p = four_in_a_row(board,player)\n",
    "    player = -player\n",
    "    clear()\n",
    "    print_board(board)\n",
    "p1 = four_in_a_row(board,1)\n",
    "p2 = four_in_a_row(board,-1)\n",
    "if p1==True:\n",
    "    print(\"p1 won\")\n",
    "elif p2==True:\n",
    "    print(\"p2 won\")\n",
    "else:\n",
    "    print(\"tie\")\n"
   ]
  },
  {
   "cell_type": "markdown",
   "metadata": {},
   "source": [
    "## WITH AB PRUNING"
   ]
  }
 ],
 "metadata": {
  "interpreter": {
   "hash": "371627151b0642f6c185c280fa16312776bda89bbb063ce0f2d8135c657194f4"
  },
  "kernelspec": {
   "display_name": "Python 3.8.2 64-bit ('ci2021': conda)",
   "name": "python3"
  },
  "language_info": {
   "codemirror_mode": {
    "name": "ipython",
    "version": 3
   },
   "file_extension": ".py",
   "mimetype": "text/x-python",
   "name": "python",
   "nbconvert_exporter": "python",
   "pygments_lexer": "ipython3",
   "version": "3.9.5"
  },
  "orig_nbformat": 4
 },
 "nbformat": 4,
 "nbformat_minor": 2
}
